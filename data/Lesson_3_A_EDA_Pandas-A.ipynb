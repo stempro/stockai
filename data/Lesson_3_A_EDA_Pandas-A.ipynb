{
 "cells": [
  {
   "cell_type": "markdown",
   "metadata": {
    "id": "mvqO14mAmhrG"
   },
   "source": [
    "# Panda data and EDA\n",
    "Exploratory Data Analysis"
   ]
  },
  {
   "cell_type": "code",
   "execution_count": null,
   "metadata": {
    "colab": {
     "base_uri": "https://localhost:8080/"
    },
    "executionInfo": {
     "elapsed": 974,
     "status": "ok",
     "timestamp": 1688480978846,
     "user": {
      "displayName": "Roy Ma",
      "userId": "11030545180881760696"
     },
     "user_tz": 420
    },
    "id": "FBRH-KQkKKRx",
    "outputId": "487b2536-bf91-40dd-bdba-2a98c931b3c9"
   },
   "outputs": [
    {
     "name": "stdout",
     "output_type": "stream",
     "text": [
      "Drive already mounted at /content/drive; to attempt to forcibly remount, call drive.mount(\"/content/drive\", force_remount=True).\n"
     ]
    }
   ],
   "source": [
    "is_teacher_deck = True\n",
    "\n",
    "if is_teacher_deck:\n",
    "    support_folder = '/content/drive/MyDrive/Classroom/high_school_programming/notebooks/materials/'\n",
    "else:\n",
    "    support_folder =  '/content/drive'\n",
    "\n",
    "from google.colab import drive\n",
    "drive.mount('/content/drive')\n",
    "\n",
    "from IPython.display import Image"
   ]
  },
  {
   "cell_type": "markdown",
   "metadata": {
    "id": "R1oL7gr-nPcT"
   },
   "source": [
    "## Before we start -- ML 101"
   ]
  },
  {
   "cell_type": "markdown",
   "metadata": {
    "id": "0FxkShLNnaSx"
   },
   "source": [
    "<font size=4 color=blue>Steps for Machine Learning Project</font><br>\n",
    "<i>conventionaly, all follow these steps, more or less.</i><br><br>\n",
    "**<font color=green><u>Gathering data**</u></font><br><br>\n",
    "**<font color=green><u>Exploratory Data Analysis (EDA)**</u></font><br><br>\n",
    "**Preprocessing data**<br><br>\n",
    "**Build/Test Model**<br><br>\n",
    "**Prediction** <br>"
   ]
  },
  {
   "cell_type": "code",
   "execution_count": null,
   "metadata": {
    "id": "jPhWggugnajW"
   },
   "outputs": [],
   "source": []
  },
  {
   "cell_type": "markdown",
   "metadata": {
    "id": "DA1prHl75CGA"
   },
   "source": [
    "# Gathering data\n",
    "\n",
    "1. Revisit: Libraries -- pandas, <s>alpaca</s>, yfinance, matplotlib\n",
    "2. Get historical data using yfinance\n",
    "3. Store data"
   ]
  },
  {
   "cell_type": "markdown",
   "metadata": {
    "id": "8CW2B63-Yt7N"
   },
   "source": [
    "## 1. Revisit: Libraries\n",
    "**pandas, alpaca, yfinance, matplotlib**\n",
    "* How about yfinance? Don't need an account. yfinance does not provide real-time data streaming capabilities. It is more focused on retrieving historical data for analysis rather than providing live or real-time data updates\n",
    "\n",
    "* We will use yfinance for analysis"
   ]
  },
  {
   "cell_type": "markdown",
   "metadata": {
    "id": "wP8stb7aatKt"
   },
   "source": [
    "## 2. yfinance: check and prepare\n",
    "\n",
    "**Let take these steps:**\n",
    "### a). check yfinace apis\n",
    "### b). decide what we need\n",
    "### c). try one manually\n",
    "### d). write functions\n",
    "\n"
   ]
  },
  {
   "cell_type": "markdown",
   "metadata": {
    "id": "Husps1nCjJ7-"
   },
   "source": [
    "### **a). check yfinace apis**\n"
   ]
  },
  {
   "cell_type": "code",
   "execution_count": null,
   "metadata": {
    "id": "AnxOOygrt0kk"
   },
   "outputs": [],
   "source": [
    "!pip install yfinance --upgrade --no-cache-dir"
   ]
  },
  {
   "cell_type": "code",
   "execution_count": null,
   "metadata": {
    "colab": {
     "base_uri": "https://localhost:8080/"
    },
    "executionInfo": {
     "elapsed": 272,
     "status": "ok",
     "timestamp": 1688356959076,
     "user": {
      "displayName": "Roy Ma",
      "userId": "11030545180881760696"
     },
     "user_tz": 420
    },
    "id": "IFTfJW4L6nyR",
    "outputId": "fd835a82-49c5-443f-da16-52324b3d4b8e"
   },
   "outputs": [
    {
     "name": "stdout",
     "output_type": "stream",
     "text": [
      "Installing collected packages: url-normalize, cattrs, requests_cache\n",
      "Successfully installed cattrs-23.1.2 requests_cache-1.1.0 url-normalize-1.4.3\n"
     ]
    }
   ],
   "source": [
    "!pip install requests_cache"
   ]
  },
  {
   "cell_type": "code",
   "execution_count": null,
   "metadata": {
    "colab": {
     "base_uri": "https://localhost:8080/"
    },
    "executionInfo": {
     "elapsed": 1044,
     "status": "ok",
     "timestamp": 1688357058395,
     "user": {
      "displayName": "Roy Ma",
      "userId": "11030545180881760696"
     },
     "user_tz": 420
    },
    "id": "qaUv0VUu68vp",
    "outputId": "d27ff9e6-331e-4231-c7da-37c7cf347b34"
   },
   "outputs": [
    {
     "name": "stdout",
     "output_type": "stream",
     "text": [
      "Installing collected packages: pyrate-limiter, requests-ratelimiter\n",
      "Successfully installed pyrate-limiter-2.10.0 requests-ratelimiter-0.4.0\n"
     ]
    }
   ],
   "source": [
    "!pip install requests-ratelimiter"
   ]
  },
  {
   "cell_type": "code",
   "execution_count": null,
   "metadata": {
    "id": "6qqs6fBgbjSH"
   },
   "outputs": [],
   "source": [
    "# load libraries\n",
    "import yfinance as yf\n",
    "from datetime import datetime, timedelta\n",
    "import time\n",
    "import os\n",
    "import json\n",
    "from bs4 import BeautifulSoup\n",
    "import pandas as pd\n",
    "import csv\n",
    "import numpy as np"
   ]
  },
  {
   "cell_type": "markdown",
   "metadata": {
    "id": "SiLbr9el7Fpr"
   },
   "source": [
    "* check  [yfinance in Pypi](https://pypi.org/project/yfinance/)\n",
    "\n",
    "* use <font color=green>help</font>"
   ]
  },
  {
   "cell_type": "code",
   "execution_count": null,
   "metadata": {
    "id": "PAlnNYgKuxED"
   },
   "outputs": [],
   "source": [
    "help(yf)"
   ]
  },
  {
   "cell_type": "markdown",
   "metadata": {
    "id": "zmWMmJDdxUWN"
   },
   "source": [
    "### **b). decide what we need**"
   ]
  },
  {
   "cell_type": "code",
   "execution_count": null,
   "metadata": {
    "id": "hiQXdu0tviKk"
   },
   "outputs": [],
   "source": [
    "tsla = yf.Ticker(\"TSLA\")\n",
    "# get all stock info\n",
    "tsla.info"
   ]
  },
  {
   "cell_type": "code",
   "execution_count": null,
   "metadata": {
    "id": "ifA191afvirK"
   },
   "outputs": [],
   "source": [
    "# get historical market data\n",
    "hist = tsla.history(period=\"1mo\")\n",
    "hist"
   ]
  },
  {
   "cell_type": "code",
   "execution_count": null,
   "metadata": {
    "id": "etk_lAvxxsHo"
   },
   "outputs": [],
   "source": [
    "# periods: (['1d',  '5d',  '1mo',  '3mo',  '6mo',  '1y',  '2y',  '5y',  '10y',  'ytd',  'max'])\n",
    "# interval: [1m, 2m, 5m, 15m, 30m, 60m, 90m, 1h, 1d, 5d, 1wk, 1mo, 3mo]\n",
    "# 1m data is only retrievable for the last 7 days,\n",
    "# intraday (interval <1d) only for the last 60 days\n",
    "\n",
    "tsla.history_metadata"
   ]
  },
  {
   "cell_type": "code",
   "execution_count": null,
   "metadata": {
    "id": "FCpFvss_x-AQ"
   },
   "outputs": [],
   "source": [
    "# show actions (dividends, splits, capital gains)\n",
    "tsla.actions"
   ]
  },
  {
   "cell_type": "code",
   "execution_count": null,
   "metadata": {
    "colab": {
     "base_uri": "https://localhost:8080/"
    },
    "executionInfo": {
     "elapsed": 409,
     "status": "ok",
     "timestamp": 1688354741509,
     "user": {
      "displayName": "Roy Ma",
      "userId": "11030545180881760696"
     },
     "user_tz": 420
    },
    "id": "5DFqlqWcyEyx",
    "outputId": "aa3bd9bb-7e2f-411e-a946-7ef284ed6ca5"
   },
   "outputs": [
    {
     "data": {
      "text/plain": [
       "Series([], Name: Dividends, dtype: float64)"
      ]
     },
     "execution_count": 19,
     "metadata": {},
     "output_type": "execute_result"
    }
   ],
   "source": [
    "tsla.dividends"
   ]
  },
  {
   "cell_type": "code",
   "execution_count": null,
   "metadata": {
    "colab": {
     "base_uri": "https://localhost:8080/"
    },
    "executionInfo": {
     "elapsed": 2,
     "status": "ok",
     "timestamp": 1688354754931,
     "user": {
      "displayName": "Roy Ma",
      "userId": "11030545180881760696"
     },
     "user_tz": 420
    },
    "id": "cvIFn9dqyEoY",
    "outputId": "91a75a51-20fb-47fe-82de-4ae45f56145b"
   },
   "outputs": [
    {
     "data": {
      "text/plain": [
       "Series([], Name: Stock Splits, dtype: float64)"
      ]
     },
     "execution_count": 20,
     "metadata": {},
     "output_type": "execute_result"
    }
   ],
   "source": [
    "tsla.splits"
   ]
  },
  {
   "cell_type": "code",
   "execution_count": null,
   "metadata": {
    "colab": {
     "base_uri": "https://localhost:8080/"
    },
    "executionInfo": {
     "elapsed": 3,
     "status": "ok",
     "timestamp": 1688354762938,
     "user": {
      "displayName": "Roy Ma",
      "userId": "11030545180881760696"
     },
     "user_tz": 420
    },
    "id": "aVyN-wz_yEfw",
    "outputId": "607c3c85-15e9-4a9a-c3d9-1169535ac756"
   },
   "outputs": [
    {
     "data": {
      "text/plain": [
       "[]"
      ]
     },
     "execution_count": 21,
     "metadata": {},
     "output_type": "execute_result"
    }
   ],
   "source": [
    "tsla.capital_gains"
   ]
  },
  {
   "cell_type": "code",
   "execution_count": null,
   "metadata": {
    "id": "-dD6R2C-vjFS"
   },
   "outputs": [],
   "source": [
    "# show share count\n",
    "tsla.get_shares_full(start='2021-06-29', end=None)"
   ]
  },
  {
   "cell_type": "code",
   "execution_count": null,
   "metadata": {
    "id": "Gvz1ssOS0IFA"
   },
   "outputs": [],
   "source": [
    "news = tsla.news\n",
    "news[0]"
   ]
  },
  {
   "cell_type": "code",
   "execution_count": null,
   "metadata": {
    "id": "p0P0YOKVatN3"
   },
   "outputs": [],
   "source": [
    "# Define the stock symbol and the date range\n",
    "symbol = \"tsla\"\n",
    "end_date = datetime.today()\n",
    "start_date = end_date - timedelta(days=2*365)\n",
    "\n",
    "# Download the stock data\n",
    "df_stock_hitory = yf.download(symbol, start=start_date, end=end_date)\n",
    "\n",
    "df_stock_hitory.head(1)\n"
   ]
  },
  {
   "cell_type": "markdown",
   "metadata": {
    "id": "e177MD0xy-UB"
   },
   "source": [
    "<font size=4 color=blue>many more!</font>"
   ]
  },
  {
   "cell_type": "code",
   "execution_count": null,
   "metadata": {
    "id": "MtqiDTP0y-FD"
   },
   "outputs": [],
   "source": [
    "if 1 == 11:\n",
    "    # show financials:\n",
    "    tsla.income_stmt\n",
    "    tsla.quarterly_income_stmt\n",
    "    # - balance sheet\n",
    "    tsla.balance_sheet\n",
    "    tsla.quarterly_balance_sheet\n",
    "    # - cash flow statement\n",
    "    tsla.cashflow\n",
    "    tsla.quarterly_cashflow\n",
    "    # show holders\n",
    "    tsla.major_holders\n",
    "    tsla.institutional_holders\n",
    "    tsla.mutualfund_holders\n",
    "    tsla.earnings_dates\n",
    "    tsla.isin\n",
    "    # show options expirations\n",
    "    tsla.options\n",
    "    # get option chain for specific expiration\n",
    "    opt = tsla.option_chain('YYYY-MM-DD')\n",
    "    # data available via: opt.calls, opt.puts"
   ]
  },
  {
   "cell_type": "markdown",
   "metadata": {
    "id": "00saEcDmy9_w"
   },
   "source": [
    "<font size=3 color=red> We choose: </font>\n",
    "* historical data\n",
    "* news  (later)\n",
    "\n",
    "**what intervals and periods**\n",
    "* available periods: (['1d',  '5d',  '1mo',  '3mo',  '6mo',  '1y',  '2y',  '5y',  '10y', 'ytd',  'max'])\n",
    "* available intervals: [1m, 2m, 5m, 15m, 30m, 60m, 90m, 1h, 1d, 5d, 1wk, 1mo, 3mo]\n",
    "\n",
    "**for this project:**\n",
    "* time periods 1d, 5d, 1y\n",
    "* interval: 1m, 5m, 1d"
   ]
  },
  {
   "cell_type": "markdown",
   "metadata": {
    "id": "JzQv4ug5ageB"
   },
   "source": [
    "### c). try one manually\n",
    "\n",
    "* Try AAPL"
   ]
  },
  {
   "cell_type": "code",
   "execution_count": null,
   "metadata": {
    "id": "ZtRZ-dAqbPPJ"
   },
   "outputs": [],
   "source": [
    "apple = yf.Ticker(\"aapl\")\n",
    "# get all stock info\n",
    "apple.info"
   ]
  },
  {
   "cell_type": "markdown",
   "metadata": {
    "id": "C6KmBkJCbPKC"
   },
   "source": [
    "**down 1m interval data from past 1 d**\n",
    "* not to include before/after hour *transactions*"
   ]
  },
  {
   "cell_type": "code",
   "execution_count": null,
   "metadata": {
    "id": "ocoYZ9jkbPDw"
   },
   "outputs": [],
   "source": [
    "yf.download(tickers = 'aapl',  # list of tickers\n",
    "            period = \"1d\",         # time period\n",
    "            interval = \"1m\",       # trading interval\n",
    "            prepost = False,       # download pre/post market hours or not\n",
    "            repair = True)         # repair obvious price errors"
   ]
  },
  {
   "cell_type": "markdown",
   "metadata": {
    "id": "hmfiKv_kdqZ-"
   },
   "source": [
    "* what about time range"
   ]
  },
  {
   "cell_type": "code",
   "execution_count": null,
   "metadata": {
    "id": "INQVbZAndtC2"
   },
   "outputs": [],
   "source": [
    "yf.download(tickers = 'aapl',  # list of tickers\n",
    "            start = \"2023-06-01\",         # from\n",
    "            end =  \"2023-07-01\",       # to\n",
    "            prepost = False,       # download pre/post market hours or not\n",
    "            repair = True)"
   ]
  },
  {
   "cell_type": "markdown",
   "metadata": {
    "id": "M2c4CVQPbO5x"
   },
   "source": [
    "* what about try download two stocks in one call?\n",
    "    - add DASH -- Doordask"
   ]
  },
  {
   "cell_type": "code",
   "execution_count": null,
   "metadata": {
    "id": "X-QPapC35uQL"
   },
   "outputs": [],
   "source": [
    "yf.download(tickers = \"DASH AAPL\",\n",
    "            period = \"1mo\",\n",
    "            interval = \"1d\",\n",
    "            prepost = False,\n",
    "            repair = True)"
   ]
  },
  {
   "cell_type": "markdown",
   "metadata": {
    "id": "maBHzuMjy95X"
   },
   "source": [
    "### d). decide the list\n",
    "\n",
    "**Something to remember and put to practice**\n",
    "* Plan what it does: input and output. Following SRP - single Responsibility Principle\n",
    "* Give a concise and meaningful name. low_case_with_underscore.\n",
    "* Use docstring right after function signature\n",
    "* Meaningful parameter names. Not too many. If need many, consider use dictionary\n",
    "* Optional: type hints for parameters and output  \n",
    "* Minimize use of global parameters.   \n",
    "* Follow DRY! Don't Repeat Yourself. Mimimum duplicate code within or across  \n",
    "* More on PEP 8 style guide (Python Enhancement Proposal)"
   ]
  },
  {
   "cell_type": "markdown",
   "metadata": {
    "id": "gp8Ttbq-y9xn"
   },
   "source": [
    "**<font color=blue>Describe our goals</font>**\n",
    "\n",
    "* We need to load historical trading data for a number of stocker tickers(symbols).\n",
    "* We need diffent interval and periods.\n",
    "* We need news data (later)\n",
    "* We need to save data"
   ]
  },
  {
   "cell_type": "markdown",
   "metadata": {
    "id": "sLhZ09kZopFa"
   },
   "source": [
    "**Tickers**\n",
    "* two full list of tickers for nyse and nasdaq are directly stripped from www and saved to github <br>\n",
    "\n",
    "<br><font color=blue><u>raw list of tickers</u></font>\n",
    "* url_nyse = 'https://raw.githubusercontent.com/stempro/stockai/stockai/data/nyse20230701.csv'\n",
    "* url_nasdaq = 'https://raw.githubusercontent.com/stempro/stockai/stockai/data/nasdaq20230701.csv'\n",
    "\n",
    "<br><font color=blue><u>valid list of tickers with basic info</u></font>\n",
    "* url_nyse_info = 'https://raw.githubusercontent.com/stempro/stockai/stockai/data/NYSE_ticker_info.csv'\n",
    "* url_nasdaq_info = 'https://raw.githubusercontent.com/stempro/stockai/stockai/data/NASDAQ_ticker_info.csv'\n"
   ]
  },
  {
   "cell_type": "markdown",
   "metadata": {
    "id": "wO1DGiZ7ogLR"
   },
   "source": [
    "**Decide a list of companies/industries/sections**\n",
    "* lets focus on high tech\n"
   ]
  },
  {
   "cell_type": "code",
   "execution_count": null,
   "metadata": {
    "id": "8RPnhGUrqyt9"
   },
   "outputs": [],
   "source": [
    "url_nyse_info = 'https://raw.githubusercontent.com/stempro/stockai/stockai/data/NYSE_ticker_info.csv'\n",
    "url_nasdaq_info = 'https://raw.githubusercontent.com/stempro/stockai/stockai/data/NASDAQ_ticker_info.csv'\n",
    "\n",
    "def choose_(industries, sectors, marketcap_from, marketcap_to,\n",
    "           averageVolume_from, averageVolume_to, limit_n):\n",
    "\n",
    "    df_nyse = pd.read_csv(url_nyse_info)\n",
    "    df_nasdaq = pd.read_csv(url_nasdaq_info)\n",
    "    df_total = pd.concat([df_nyse, df_nasdaq])\n",
    "    df_ = df_total.copy()\n",
    "    #advanced: df_['industry'].str.lower().isin([x.lower() for x in industries])\n",
    "    if industries:\n",
    "        df_ = df_[df_['industry'].isin(industries)]\n",
    "        if df_.shape[0]<=limit_n:\n",
    "            return df_, df_total\n",
    "\n",
    "    if sectors:\n",
    "        df_ = df_[df_['sector'].isin(sectors)]\n",
    "        if df_.shape[0]<=limit_n:\n",
    "            return df_, df_total\n",
    "\n",
    "    df_ = df_[df_['marketCap'].between(marketcap_from, marketcap_to)]\n",
    "    if df_.shape[0]<=limit_n:\n",
    "        return df_, df_total\n",
    "\n",
    "    df_ = df_[df_['averageVolume'].between(averageVolume_from, averageVolume_to)]\n",
    "    if df_.shape[0]<=limit_n:\n",
    "        return df_, df_total\n",
    "    else:\n",
    "        return df_.sample(limit_n), df_total\n",
    "\n",
    "def choose_and_save_my_list(extras=[], industries=[], sectors=[],\n",
    "        marketcap_from=-np.inf, marketcap_to=np.inf,\n",
    "        averageVolume_from=-np.inf, averageVolume_to=np.inf, limit_n = 50,\n",
    "        refresh_list=False):\n",
    "\n",
    "    your_project_file = f\"{support_folder}/Project_ticker_list.csv\"\n",
    "\n",
    "    if os.path.exists(your_project_file) and (not refresh_list):\n",
    "        return pd.read_csv(your_project_file)\n",
    "\n",
    "    df_, df_total = choose_(industries=industries, sectors=sectors,\n",
    "        marketcap_from=marketcap_from, marketcap_to=marketcap_to,\n",
    "        averageVolume_from=averageVolume_from,\n",
    "        averageVolume_to=averageVolume_to, limit_n = limit_n)\n",
    "\n",
    "    if extras:\n",
    "        extras = [ticker for ticker in extras if ticker not in list(df_[\"Ticker\"])]\n",
    "        df_ = pd.concat([df_, df_total[df_total[\"Ticker\"].isin(extras)]])\n",
    "    # save to YOUR google drive\n",
    "    df_.to_csv(your_project_file)\n",
    "\n",
    "    return df_\n"
   ]
  },
  {
   "cell_type": "code",
   "execution_count": null,
   "metadata": {
    "id": "zlawaCu401Fu"
   },
   "outputs": [],
   "source": [
    "df_= choose_and_save_my_list(extras=[\"AAPL\", \"TSLA\", \"META\"],\n",
    "                        sectors=['Technology','Communication Services'] ,\n",
    "                        marketcap_from=2.50e10 )"
   ]
  },
  {
   "cell_type": "code",
   "execution_count": null,
   "metadata": {
    "colab": {
     "base_uri": "https://localhost:8080/",
     "height": 112
    },
    "executionInfo": {
     "elapsed": 13,
     "status": "ok",
     "timestamp": 1688492622422,
     "user": {
      "displayName": "Roy Ma",
      "userId": "11030545180881760696"
     },
     "user_tz": 420
    },
    "id": "5_12XcdM01Ih",
    "outputId": "923b8a84-2f05-4bba-fd15-f6efa5ff6be7"
   },
   "outputs": [
    {
     "data": {
      "text/html": [
       "\n",
       "  <div id=\"df-3df03b85-bed2-4661-82e8-0125d1d93415\">\n",
       "    <div class=\"colab-df-container\">\n",
       "      <div>\n",
       "<style scoped>\n",
       "    .dataframe tbody tr th:only-of-type {\n",
       "        vertical-align: middle;\n",
       "    }\n",
       "\n",
       "    .dataframe tbody tr th {\n",
       "        vertical-align: top;\n",
       "    }\n",
       "\n",
       "    .dataframe thead th {\n",
       "        text-align: right;\n",
       "    }\n",
       "</style>\n",
       "<table border=\"1\" class=\"dataframe\">\n",
       "  <thead>\n",
       "    <tr style=\"text-align: right;\">\n",
       "      <th></th>\n",
       "      <th>Unnamed: 0</th>\n",
       "      <th>Ticker</th>\n",
       "      <th>industry</th>\n",
       "      <th>sector</th>\n",
       "      <th>averageVolume</th>\n",
       "      <th>averageVolume10days</th>\n",
       "      <th>marketCap</th>\n",
       "    </tr>\n",
       "  </thead>\n",
       "  <tbody>\n",
       "    <tr>\n",
       "      <th>0</th>\n",
       "      <td>35</td>\n",
       "      <td>LRCX</td>\n",
       "      <td>Semiconductor Equipment &amp; Materials</td>\n",
       "      <td>Technology</td>\n",
       "      <td>1336162</td>\n",
       "      <td>1110420</td>\n",
       "      <td>87453999104</td>\n",
       "    </tr>\n",
       "    <tr>\n",
       "      <th>1</th>\n",
       "      <td>96</td>\n",
       "      <td>DDOG</td>\n",
       "      <td>Software—Application</td>\n",
       "      <td>Technology</td>\n",
       "      <td>4924927</td>\n",
       "      <td>3426510</td>\n",
       "      <td>31637094400</td>\n",
       "    </tr>\n",
       "  </tbody>\n",
       "</table>\n",
       "</div>\n",
       "      <button class=\"colab-df-convert\" onclick=\"convertToInteractive('df-3df03b85-bed2-4661-82e8-0125d1d93415')\"\n",
       "              title=\"Convert this dataframe to an interactive table.\"\n",
       "              style=\"display:none;\">\n",
       "        \n",
       "  <svg xmlns=\"http://www.w3.org/2000/svg\" height=\"24px\"viewBox=\"0 0 24 24\"\n",
       "       width=\"24px\">\n",
       "    <path d=\"M0 0h24v24H0V0z\" fill=\"none\"/>\n",
       "    <path d=\"M18.56 5.44l.94 2.06.94-2.06 2.06-.94-2.06-.94-.94-2.06-.94 2.06-2.06.94zm-11 1L8.5 8.5l.94-2.06 2.06-.94-2.06-.94L8.5 2.5l-.94 2.06-2.06.94zm10 10l.94 2.06.94-2.06 2.06-.94-2.06-.94-.94-2.06-.94 2.06-2.06.94z\"/><path d=\"M17.41 7.96l-1.37-1.37c-.4-.4-.92-.59-1.43-.59-.52 0-1.04.2-1.43.59L10.3 9.45l-7.72 7.72c-.78.78-.78 2.05 0 2.83L4 21.41c.39.39.9.59 1.41.59.51 0 1.02-.2 1.41-.59l7.78-7.78 2.81-2.81c.8-.78.8-2.07 0-2.86zM5.41 20L4 18.59l7.72-7.72 1.47 1.35L5.41 20z\"/>\n",
       "  </svg>\n",
       "      </button>\n",
       "      \n",
       "  <style>\n",
       "    .colab-df-container {\n",
       "      display:flex;\n",
       "      flex-wrap:wrap;\n",
       "      gap: 12px;\n",
       "    }\n",
       "\n",
       "    .colab-df-convert {\n",
       "      background-color: #E8F0FE;\n",
       "      border: none;\n",
       "      border-radius: 50%;\n",
       "      cursor: pointer;\n",
       "      display: none;\n",
       "      fill: #1967D2;\n",
       "      height: 32px;\n",
       "      padding: 0 0 0 0;\n",
       "      width: 32px;\n",
       "    }\n",
       "\n",
       "    .colab-df-convert:hover {\n",
       "      background-color: #E2EBFA;\n",
       "      box-shadow: 0px 1px 2px rgba(60, 64, 67, 0.3), 0px 1px 3px 1px rgba(60, 64, 67, 0.15);\n",
       "      fill: #174EA6;\n",
       "    }\n",
       "\n",
       "    [theme=dark] .colab-df-convert {\n",
       "      background-color: #3B4455;\n",
       "      fill: #D2E3FC;\n",
       "    }\n",
       "\n",
       "    [theme=dark] .colab-df-convert:hover {\n",
       "      background-color: #434B5C;\n",
       "      box-shadow: 0px 1px 3px 1px rgba(0, 0, 0, 0.15);\n",
       "      filter: drop-shadow(0px 1px 2px rgba(0, 0, 0, 0.3));\n",
       "      fill: #FFFFFF;\n",
       "    }\n",
       "  </style>\n",
       "\n",
       "      <script>\n",
       "        const buttonEl =\n",
       "          document.querySelector('#df-3df03b85-bed2-4661-82e8-0125d1d93415 button.colab-df-convert');\n",
       "        buttonEl.style.display =\n",
       "          google.colab.kernel.accessAllowed ? 'block' : 'none';\n",
       "\n",
       "        async function convertToInteractive(key) {\n",
       "          const element = document.querySelector('#df-3df03b85-bed2-4661-82e8-0125d1d93415');\n",
       "          const dataTable =\n",
       "            await google.colab.kernel.invokeFunction('convertToInteractive',\n",
       "                                                     [key], {});\n",
       "          if (!dataTable) return;\n",
       "\n",
       "          const docLinkHtml = 'Like what you see? Visit the ' +\n",
       "            '<a target=\"_blank\" href=https://colab.research.google.com/notebooks/data_table.ipynb>data table notebook</a>'\n",
       "            + ' to learn more about interactive tables.';\n",
       "          element.innerHTML = '';\n",
       "          dataTable['output_type'] = 'display_data';\n",
       "          await google.colab.output.renderOutput(dataTable, element);\n",
       "          const docLink = document.createElement('div');\n",
       "          docLink.innerHTML = docLinkHtml;\n",
       "          element.appendChild(docLink);\n",
       "        }\n",
       "      </script>\n",
       "    </div>\n",
       "  </div>\n",
       "  "
      ],
      "text/plain": [
       "   Unnamed: 0 Ticker                             industry      sector  \\\n",
       "0          35   LRCX  Semiconductor Equipment & Materials  Technology   \n",
       "1          96   DDOG                 Software—Application  Technology   \n",
       "\n",
       "   averageVolume  averageVolume10days    marketCap  \n",
       "0        1336162              1110420  87453999104  \n",
       "1        4924927              3426510  31637094400  "
      ]
     },
     "execution_count": 210,
     "metadata": {},
     "output_type": "execute_result"
    }
   ],
   "source": [
    "df_.head(2)"
   ]
  },
  {
   "cell_type": "markdown",
   "metadata": {
    "id": "qdiW1z8O01K-"
   },
   "source": [
    "## yfinance: get data for MY app\n",
    "** recall**:\n",
    "\n",
    "---\n",
    "\n",
    "    * what intervals and periods   \n",
    "        * available periods: (['1d', '5d', '1mo', '3mo', '6mo', '1y', '2y', '5y', '10y', 'ytd', 'max'])\n",
    "    \n",
    "    * available intervals: [1m, 2m, 5m, 15m, 30m, 60m, 90m, 1h, 1d, 5d, 1wk, 1mo, 3mo]\n",
    "        * for this project:\n",
    "\n",
    " **My App:**\n",
    "    <br><b><u>time periods 1d, 5d, 1y</b></u>\n",
    "    <br><b><u>interval: 1m, 5m, 1d</b></u>\n",
    "\n",
    "\n"
   ]
  },
  {
   "cell_type": "markdown",
   "metadata": {
    "id": "L8pJsZ9bBVnt"
   },
   "source": [
    "### a). Get the ticker list\n",
    "* file path: your_project_file = f\"{support_folder}/Project_ticker_list.csv\"\n",
    "\n",
    "* https://github.com/ranaroussi/yfinance/wiki/Tickers"
   ]
  },
  {
   "cell_type": "code",
   "execution_count": null,
   "metadata": {
    "id": "PKG_fWGg01NC"
   },
   "outputs": [],
   "source": [
    "your_project_file = f\"{support_folder}/Project_ticker_list.csv\"\n",
    "df_tickers = pd.read_csv(your_project_file)"
   ]
  },
  {
   "cell_type": "markdown",
   "metadata": {
    "id": "2KT5yHC-JUFt"
   },
   "source": [
    "### b). Wait: should we track?\n",
    "* use a json file track what has already been downloaded.\n",
    "* why? yfinance is the opensource and community managed. not so reliable"
   ]
  },
  {
   "cell_type": "code",
   "execution_count": null,
   "metadata": {
    "id": "79hkH7mkJrYW"
   },
   "outputs": [],
   "source": [
    "def track_progress(jsonobj=None, action=\"load\"):\n",
    "    \"\"\"\n",
    "        action: load, dump\n",
    "        to simplify, we use all fix file name and schema.\n",
    "    \"\"\"\n",
    "    track_json_file = f\"{support_folder}/yf_progress.json\"\n",
    "    if action.lower() == \"load\":\n",
    "        if os.path.exists(track_json_file):\n",
    "            return json.load(open(track_json_file, 'r'))\n",
    "        else:\n",
    "            return {}\n",
    "    else:\n",
    "        if not jsonobj:\n",
    "            return\n",
    "        json.dump(jsonobj, open(track_json_file, 'w'))"
   ]
  },
  {
   "cell_type": "markdown",
   "metadata": {
    "id": "kLYQKy2AVS3t"
   },
   "source": [
    "### c). download"
   ]
  },
  {
   "cell_type": "code",
   "execution_count": null,
   "metadata": {
    "id": "Wb-NdeU_BeIk"
   },
   "outputs": [],
   "source": [
    "def get_histories(intervals=[\"1m\",\"5m\",\"1d\"],\n",
    "                  max_tickers_per_call = 100,\n",
    "                  reload=True):\n",
    "    \"\"\"\n",
    "        action: load, dump\n",
    "        to simplify, we use all fix file name and folder name.\n",
    "        time periods 1d, 5d, 1y\n",
    "        interval: 1m, 5m, 1d. for 1m and 5m, we take 5 days of data\n",
    "            for 1d. with take 1 y\n",
    "        filename convention: interval_period_yyyymmmddd.csv\n",
    "        progress_json:\n",
    "            1m: True\n",
    "    \"\"\"\n",
    "    progress_json = track_progress(action=\"load\")\n",
    "\n",
    "    data_folder = f\"{support_folder}/data\"\n",
    "    if not os.path.exists(data_folder):\n",
    "        os.mkdir(data_folder)\n",
    "\n",
    "    ticker_df = pd.read_csv(your_project_file)\n",
    "    tickers = list(ticker_df['Ticker'])[:10]\n",
    "    n_tickers = len(tickers)\n",
    "    datetime_str = datetime.strftime(datetime.now(), \"%YYYY%m%d%H%M\")\n",
    "\n",
    "    for interval in intervals:\n",
    "        if (not reload) and interval in progress_json:\n",
    "            continue\n",
    "        period = \"5d\" if interval in [\"1m\", \"5m\"] else \"1y\"\n",
    "        for i in range(0, n_tickers, max_tickers_per_call):\n",
    "\n",
    "            csv_file = f\"{data_folder}/{period}_{interval}_{datetime_str}_{i}.csv\"\n",
    "\n",
    "            tickers_ = tickers[i:(i+max_tickers_per_call)]\n",
    "\n",
    "            df_ = yf.download(tickers_, interval=interval, period=period, threads=True,\n",
    "                              prepost = False, repair = True)\n",
    "            df_ = df_.stack(level=1).rename_axis(['Date', 'Ticker']).reset_index(level=1)\n",
    "            df_ = df_.reset_index()\n",
    "            if df_.shape[0]>0:\n",
    "                df_.to_csv(csv_file)\n",
    "                progress_json[interval] = \"Downloaded\"\n",
    "                #save it right away\n",
    "                track_progress(jsonobj=progress_json, action=\"save\")\n",
    "\n",
    "    return progress_json\n"
   ]
  },
  {
   "cell_type": "code",
   "execution_count": null,
   "metadata": {
    "colab": {
     "base_uri": "https://localhost:8080/"
    },
    "executionInfo": {
     "elapsed": 7306,
     "status": "ok",
     "timestamp": 1688498540912,
     "user": {
      "displayName": "Roy Ma",
      "userId": "11030545180881760696"
     },
     "user_tz": 420
    },
    "id": "qhsdfHXMSEzQ",
    "outputId": "92773ced-fdb7-45c8-8d4d-fe06bb10e1c8"
   },
   "outputs": [
    {
     "name": "stdout",
     "output_type": "stream",
     "text": [
      "[*********************100%***********************]  10 of 10 completed\n",
      "[*********************100%***********************]  10 of 10 completed\n",
      "[*********************100%***********************]  10 of 10 completed\n"
     ]
    },
    {
     "data": {
      "text/plain": [
       "{'1m': 'Downloaded', '5m': 'Downloaded', '1d': 'Downloaded'}"
      ]
     },
     "execution_count": 247,
     "metadata": {},
     "output_type": "execute_result"
    }
   ],
   "source": [
    "get_histories()"
   ]
  },
  {
   "cell_type": "markdown",
   "metadata": {
    "id": "qh8v2RQnfT6_"
   },
   "source": [
    "## data: pandas\n",
    "* The name \"pandas\" is derived from the term \"panel data,\" which is an econometrics term\n",
    "* let read --> peek/maninpuate/analyze --> output"
   ]
  },
  {
   "cell_type": "code",
   "execution_count": null,
   "metadata": {
    "id": "RNDPET1yNDJR"
   },
   "outputs": [],
   "source": [
    "pd.set_option('display.float_format', '{:.2f}'.format)"
   ]
  },
  {
   "cell_type": "markdown",
   "metadata": {
    "id": "2qDPsNBD7oQc"
   },
   "source": [
    "**read to pandas**\n",
    "* Sum up: we already know we can read directly from url\n",
    "* can read from hard drive as well"
   ]
  },
  {
   "cell_type": "markdown",
   "metadata": {
    "id": "q4xE42MP8PQK"
   },
   "source": [
    "**where are our data**\n",
    "* support_folder\n",
    "* data_folder\n"
   ]
  },
  {
   "cell_type": "code",
   "execution_count": 290,
   "metadata": {
    "executionInfo": {
     "elapsed": 205,
     "status": "ok",
     "timestamp": 1688501733013,
     "user": {
      "displayName": "Roy Ma",
      "userId": "11030545180881760696"
     },
     "user_tz": 420
    },
    "id": "4JlxjZD_ZbxV"
   },
   "outputs": [],
   "source": [
    "data_folder = f\"{support_folder}/data\"\n",
    "files = os.listdir(data_folder)"
   ]
  },
  {
   "cell_type": "markdown",
   "metadata": {
    "id": "jrRqLbYRZ5wA"
   },
   "source": [
    "**use one df for how to check pandas dataframe**"
   ]
  },
  {
   "cell_type": "code",
   "execution_count": 291,
   "metadata": {
    "colab": {
     "base_uri": "https://localhost:8080/"
    },
    "executionInfo": {
     "elapsed": 180,
     "status": "ok",
     "timestamp": 1688501735273,
     "user": {
      "displayName": "Roy Ma",
      "userId": "11030545180881760696"
     },
     "user_tz": 420
    },
    "id": "-Zo2CLVcaZSo",
    "outputId": "cd9bdee6-6465-4f71-a875-7c0ca3b8c9cb"
   },
   "outputs": [
    {
     "data": {
      "text/plain": [
       "['5d_1m_2023YYY07041922_0.csv',\n",
       " '5d_5m_2023YYY07041922_0.csv',\n",
       " '1y_1d_2023YYY07041922_0.csv']"
      ]
     },
     "execution_count": 291,
     "metadata": {},
     "output_type": "execute_result"
    }
   ],
   "source": [
    "files"
   ]
  },
  {
   "cell_type": "code",
   "execution_count": 292,
   "metadata": {
    "executionInfo": {
     "elapsed": 150,
     "status": "ok",
     "timestamp": 1688501747304,
     "user": {
      "displayName": "Roy Ma",
      "userId": "11030545180881760696"
     },
     "user_tz": 420
    },
    "id": "51keMMqCaFha"
   },
   "outputs": [],
   "source": [
    "df_sample = pd.read_csv(data_folder+'/'+files[2])"
   ]
  },
  {
   "cell_type": "code",
   "execution_count": 293,
   "metadata": {
    "colab": {
     "base_uri": "https://localhost:8080/",
     "height": 423
    },
    "executionInfo": {
     "elapsed": 143,
     "status": "ok",
     "timestamp": 1688501748903,
     "user": {
      "displayName": "Roy Ma",
      "userId": "11030545180881760696"
     },
     "user_tz": 420
    },
    "id": "u4TMshrFaFMa",
    "outputId": "a24eb9d9-7f05-4b4d-85ce-7aec465ff144"
   },
   "outputs": [
    {
     "data": {
      "text/html": [
       "\n",
       "  <div id=\"df-0eddb42b-c011-4e72-801e-e3e1e744b15a\">\n",
       "    <div class=\"colab-df-container\">\n",
       "      <div>\n",
       "<style scoped>\n",
       "    .dataframe tbody tr th:only-of-type {\n",
       "        vertical-align: middle;\n",
       "    }\n",
       "\n",
       "    .dataframe tbody tr th {\n",
       "        vertical-align: top;\n",
       "    }\n",
       "\n",
       "    .dataframe thead th {\n",
       "        text-align: right;\n",
       "    }\n",
       "</style>\n",
       "<table border=\"1\" class=\"dataframe\">\n",
       "  <thead>\n",
       "    <tr style=\"text-align: right;\">\n",
       "      <th></th>\n",
       "      <th>Unnamed: 0</th>\n",
       "      <th>Date</th>\n",
       "      <th>Ticker</th>\n",
       "      <th>Adj Close</th>\n",
       "      <th>Close</th>\n",
       "      <th>High</th>\n",
       "      <th>Low</th>\n",
       "      <th>Open</th>\n",
       "      <th>Repaired?</th>\n",
       "      <th>Volume</th>\n",
       "    </tr>\n",
       "  </thead>\n",
       "  <tbody>\n",
       "    <tr>\n",
       "      <th>0</th>\n",
       "      <td>0</td>\n",
       "      <td>2022-07-05</td>\n",
       "      <td>ADBE</td>\n",
       "      <td>376.49</td>\n",
       "      <td>376.49</td>\n",
       "      <td>378.52</td>\n",
       "      <td>359.82</td>\n",
       "      <td>363.50</td>\n",
       "      <td>False</td>\n",
       "      <td>3120500</td>\n",
       "    </tr>\n",
       "    <tr>\n",
       "      <th>1</th>\n",
       "      <td>1</td>\n",
       "      <td>2022-07-05</td>\n",
       "      <td>AMX</td>\n",
       "      <td>19.67</td>\n",
       "      <td>20.15</td>\n",
       "      <td>20.28</td>\n",
       "      <td>19.78</td>\n",
       "      <td>20.11</td>\n",
       "      <td>False</td>\n",
       "      <td>1403900</td>\n",
       "    </tr>\n",
       "    <tr>\n",
       "      <th>2</th>\n",
       "      <td>2</td>\n",
       "      <td>2022-07-05</td>\n",
       "      <td>DDOG</td>\n",
       "      <td>108.38</td>\n",
       "      <td>108.38</td>\n",
       "      <td>110.08</td>\n",
       "      <td>98.06</td>\n",
       "      <td>100.92</td>\n",
       "      <td>False</td>\n",
       "      <td>6543700</td>\n",
       "    </tr>\n",
       "    <tr>\n",
       "      <th>3</th>\n",
       "      <td>3</td>\n",
       "      <td>2022-07-05</td>\n",
       "      <td>IBM</td>\n",
       "      <td>130.89</td>\n",
       "      <td>137.62</td>\n",
       "      <td>139.97</td>\n",
       "      <td>135.27</td>\n",
       "      <td>139.97</td>\n",
       "      <td>False</td>\n",
       "      <td>6273400</td>\n",
       "    </tr>\n",
       "    <tr>\n",
       "      <th>4</th>\n",
       "      <td>4</td>\n",
       "      <td>2022-07-05</td>\n",
       "      <td>INFY</td>\n",
       "      <td>18.22</td>\n",
       "      <td>18.67</td>\n",
       "      <td>18.69</td>\n",
       "      <td>18.36</td>\n",
       "      <td>18.51</td>\n",
       "      <td>False</td>\n",
       "      <td>10265200</td>\n",
       "    </tr>\n",
       "    <tr>\n",
       "      <th>...</th>\n",
       "      <td>...</td>\n",
       "      <td>...</td>\n",
       "      <td>...</td>\n",
       "      <td>...</td>\n",
       "      <td>...</td>\n",
       "      <td>...</td>\n",
       "      <td>...</td>\n",
       "      <td>...</td>\n",
       "      <td>...</td>\n",
       "      <td>...</td>\n",
       "    </tr>\n",
       "    <tr>\n",
       "      <th>2505</th>\n",
       "      <td>2505</td>\n",
       "      <td>2023-07-03</td>\n",
       "      <td>LRCX</td>\n",
       "      <td>650.99</td>\n",
       "      <td>650.99</td>\n",
       "      <td>651.01</td>\n",
       "      <td>638.85</td>\n",
       "      <td>642.86</td>\n",
       "      <td>False</td>\n",
       "      <td>621900</td>\n",
       "    </tr>\n",
       "    <tr>\n",
       "      <th>2506</th>\n",
       "      <td>2506</td>\n",
       "      <td>2023-07-03</td>\n",
       "      <td>NOW</td>\n",
       "      <td>562.87</td>\n",
       "      <td>562.87</td>\n",
       "      <td>564.56</td>\n",
       "      <td>555.94</td>\n",
       "      <td>560.85</td>\n",
       "      <td>False</td>\n",
       "      <td>473400</td>\n",
       "    </tr>\n",
       "    <tr>\n",
       "      <th>2507</th>\n",
       "      <td>2507</td>\n",
       "      <td>2023-07-03</td>\n",
       "      <td>ORCL</td>\n",
       "      <td>117.15</td>\n",
       "      <td>117.15</td>\n",
       "      <td>118.25</td>\n",
       "      <td>116.83</td>\n",
       "      <td>118.01</td>\n",
       "      <td>False</td>\n",
       "      <td>4284700</td>\n",
       "    </tr>\n",
       "    <tr>\n",
       "      <th>2508</th>\n",
       "      <td>2508</td>\n",
       "      <td>2023-07-03</td>\n",
       "      <td>RBLX</td>\n",
       "      <td>42.10</td>\n",
       "      <td>42.10</td>\n",
       "      <td>42.18</td>\n",
       "      <td>40.20</td>\n",
       "      <td>40.32</td>\n",
       "      <td>False</td>\n",
       "      <td>5251700</td>\n",
       "    </tr>\n",
       "    <tr>\n",
       "      <th>2509</th>\n",
       "      <td>2509</td>\n",
       "      <td>2023-07-03</td>\n",
       "      <td>VOD</td>\n",
       "      <td>9.51</td>\n",
       "      <td>9.51</td>\n",
       "      <td>9.52</td>\n",
       "      <td>9.42</td>\n",
       "      <td>9.43</td>\n",
       "      <td>False</td>\n",
       "      <td>2893500</td>\n",
       "    </tr>\n",
       "  </tbody>\n",
       "</table>\n",
       "<p>2510 rows × 10 columns</p>\n",
       "</div>\n",
       "      <button class=\"colab-df-convert\" onclick=\"convertToInteractive('df-0eddb42b-c011-4e72-801e-e3e1e744b15a')\"\n",
       "              title=\"Convert this dataframe to an interactive table.\"\n",
       "              style=\"display:none;\">\n",
       "        \n",
       "  <svg xmlns=\"http://www.w3.org/2000/svg\" height=\"24px\"viewBox=\"0 0 24 24\"\n",
       "       width=\"24px\">\n",
       "    <path d=\"M0 0h24v24H0V0z\" fill=\"none\"/>\n",
       "    <path d=\"M18.56 5.44l.94 2.06.94-2.06 2.06-.94-2.06-.94-.94-2.06-.94 2.06-2.06.94zm-11 1L8.5 8.5l.94-2.06 2.06-.94-2.06-.94L8.5 2.5l-.94 2.06-2.06.94zm10 10l.94 2.06.94-2.06 2.06-.94-2.06-.94-.94-2.06-.94 2.06-2.06.94z\"/><path d=\"M17.41 7.96l-1.37-1.37c-.4-.4-.92-.59-1.43-.59-.52 0-1.04.2-1.43.59L10.3 9.45l-7.72 7.72c-.78.78-.78 2.05 0 2.83L4 21.41c.39.39.9.59 1.41.59.51 0 1.02-.2 1.41-.59l7.78-7.78 2.81-2.81c.8-.78.8-2.07 0-2.86zM5.41 20L4 18.59l7.72-7.72 1.47 1.35L5.41 20z\"/>\n",
       "  </svg>\n",
       "      </button>\n",
       "      \n",
       "  <style>\n",
       "    .colab-df-container {\n",
       "      display:flex;\n",
       "      flex-wrap:wrap;\n",
       "      gap: 12px;\n",
       "    }\n",
       "\n",
       "    .colab-df-convert {\n",
       "      background-color: #E8F0FE;\n",
       "      border: none;\n",
       "      border-radius: 50%;\n",
       "      cursor: pointer;\n",
       "      display: none;\n",
       "      fill: #1967D2;\n",
       "      height: 32px;\n",
       "      padding: 0 0 0 0;\n",
       "      width: 32px;\n",
       "    }\n",
       "\n",
       "    .colab-df-convert:hover {\n",
       "      background-color: #E2EBFA;\n",
       "      box-shadow: 0px 1px 2px rgba(60, 64, 67, 0.3), 0px 1px 3px 1px rgba(60, 64, 67, 0.15);\n",
       "      fill: #174EA6;\n",
       "    }\n",
       "\n",
       "    [theme=dark] .colab-df-convert {\n",
       "      background-color: #3B4455;\n",
       "      fill: #D2E3FC;\n",
       "    }\n",
       "\n",
       "    [theme=dark] .colab-df-convert:hover {\n",
       "      background-color: #434B5C;\n",
       "      box-shadow: 0px 1px 3px 1px rgba(0, 0, 0, 0.15);\n",
       "      filter: drop-shadow(0px 1px 2px rgba(0, 0, 0, 0.3));\n",
       "      fill: #FFFFFF;\n",
       "    }\n",
       "  </style>\n",
       "\n",
       "      <script>\n",
       "        const buttonEl =\n",
       "          document.querySelector('#df-0eddb42b-c011-4e72-801e-e3e1e744b15a button.colab-df-convert');\n",
       "        buttonEl.style.display =\n",
       "          google.colab.kernel.accessAllowed ? 'block' : 'none';\n",
       "\n",
       "        async function convertToInteractive(key) {\n",
       "          const element = document.querySelector('#df-0eddb42b-c011-4e72-801e-e3e1e744b15a');\n",
       "          const dataTable =\n",
       "            await google.colab.kernel.invokeFunction('convertToInteractive',\n",
       "                                                     [key], {});\n",
       "          if (!dataTable) return;\n",
       "\n",
       "          const docLinkHtml = 'Like what you see? Visit the ' +\n",
       "            '<a target=\"_blank\" href=https://colab.research.google.com/notebooks/data_table.ipynb>data table notebook</a>'\n",
       "            + ' to learn more about interactive tables.';\n",
       "          element.innerHTML = '';\n",
       "          dataTable['output_type'] = 'display_data';\n",
       "          await google.colab.output.renderOutput(dataTable, element);\n",
       "          const docLink = document.createElement('div');\n",
       "          docLink.innerHTML = docLinkHtml;\n",
       "          element.appendChild(docLink);\n",
       "        }\n",
       "      </script>\n",
       "    </div>\n",
       "  </div>\n",
       "  "
      ],
      "text/plain": [
       "      Unnamed: 0        Date Ticker  Adj Close  Close   High    Low   Open  \\\n",
       "0              0  2022-07-05   ADBE     376.49 376.49 378.52 359.82 363.50   \n",
       "1              1  2022-07-05    AMX      19.67  20.15  20.28  19.78  20.11   \n",
       "2              2  2022-07-05   DDOG     108.38 108.38 110.08  98.06 100.92   \n",
       "3              3  2022-07-05    IBM     130.89 137.62 139.97 135.27 139.97   \n",
       "4              4  2022-07-05   INFY      18.22  18.67  18.69  18.36  18.51   \n",
       "...          ...         ...    ...        ...    ...    ...    ...    ...   \n",
       "2505        2505  2023-07-03   LRCX     650.99 650.99 651.01 638.85 642.86   \n",
       "2506        2506  2023-07-03    NOW     562.87 562.87 564.56 555.94 560.85   \n",
       "2507        2507  2023-07-03   ORCL     117.15 117.15 118.25 116.83 118.01   \n",
       "2508        2508  2023-07-03   RBLX      42.10  42.10  42.18  40.20  40.32   \n",
       "2509        2509  2023-07-03    VOD       9.51   9.51   9.52   9.42   9.43   \n",
       "\n",
       "      Repaired?    Volume  \n",
       "0         False   3120500  \n",
       "1         False   1403900  \n",
       "2         False   6543700  \n",
       "3         False   6273400  \n",
       "4         False  10265200  \n",
       "...         ...       ...  \n",
       "2505      False    621900  \n",
       "2506      False    473400  \n",
       "2507      False   4284700  \n",
       "2508      False   5251700  \n",
       "2509      False   2893500  \n",
       "\n",
       "[2510 rows x 10 columns]"
      ]
     },
     "execution_count": 293,
     "metadata": {},
     "output_type": "execute_result"
    }
   ],
   "source": [
    "df_sample"
   ]
  },
  {
   "cell_type": "markdown",
   "metadata": {
    "id": "v8VnkNYD8WSS"
   },
   "source": [
    "**Peek, manipulate and analysis**\n",
    "\n",
    "Pandas is one of the python developers' favorites. We need get some handon only on:\n",
    "* peek: head, tail, sample. take a look\n",
    "* inspect: info, summary, shape, columns, dtypes\n",
    "* loc, iloc, filter\n",
    "* analysis: agg, groupby, change\n",
    "\n"
   ]
  },
  {
   "cell_type": "code",
   "execution_count": 275,
   "metadata": {
    "colab": {
     "base_uri": "https://localhost:8080/"
    },
    "executionInfo": {
     "elapsed": 174,
     "status": "ok",
     "timestamp": 1688499809947,
     "user": {
      "displayName": "Roy Ma",
      "userId": "11030545180881760696"
     },
     "user_tz": 420
    },
    "id": "DjVw1qL_blgl",
    "outputId": "4e1f47e1-639e-40c5-9364-190cfa3e2fba"
   },
   "outputs": [
    {
     "data": {
      "text/plain": [
       "(3530, 10)"
      ]
     },
     "execution_count": 275,
     "metadata": {},
     "output_type": "execute_result"
    }
   ],
   "source": [
    "df_sample.shape"
   ]
  },
  {
   "cell_type": "code",
   "execution_count": 276,
   "metadata": {
    "colab": {
     "base_uri": "https://localhost:8080/",
     "height": 300
    },
    "executionInfo": {
     "elapsed": 327,
     "status": "ok",
     "timestamp": 1688499831778,
     "user": {
      "displayName": "Roy Ma",
      "userId": "11030545180881760696"
     },
     "user_tz": 420
    },
    "id": "9m_2fG3zbmv-",
    "outputId": "f6a73576-65ff-4355-88cb-8e481f64f414"
   },
   "outputs": [
    {
     "data": {
      "text/html": [
       "\n",
       "  <div id=\"df-1c16e018-d054-40fb-870f-22b3f5b4fc13\">\n",
       "    <div class=\"colab-df-container\">\n",
       "      <div>\n",
       "<style scoped>\n",
       "    .dataframe tbody tr th:only-of-type {\n",
       "        vertical-align: middle;\n",
       "    }\n",
       "\n",
       "    .dataframe tbody tr th {\n",
       "        vertical-align: top;\n",
       "    }\n",
       "\n",
       "    .dataframe thead th {\n",
       "        text-align: right;\n",
       "    }\n",
       "</style>\n",
       "<table border=\"1\" class=\"dataframe\">\n",
       "  <thead>\n",
       "    <tr style=\"text-align: right;\">\n",
       "      <th></th>\n",
       "      <th>Unnamed: 0</th>\n",
       "      <th>Adj Close</th>\n",
       "      <th>Close</th>\n",
       "      <th>High</th>\n",
       "      <th>Low</th>\n",
       "      <th>Open</th>\n",
       "      <th>Volume</th>\n",
       "    </tr>\n",
       "  </thead>\n",
       "  <tbody>\n",
       "    <tr>\n",
       "      <th>count</th>\n",
       "      <td>3530.00</td>\n",
       "      <td>3520.00</td>\n",
       "      <td>3520.00</td>\n",
       "      <td>3520.00</td>\n",
       "      <td>3520.00</td>\n",
       "      <td>3520.00</td>\n",
       "      <td>3530.00</td>\n",
       "    </tr>\n",
       "    <tr>\n",
       "      <th>mean</th>\n",
       "      <td>1764.50</td>\n",
       "      <td>211.44</td>\n",
       "      <td>211.44</td>\n",
       "      <td>211.66</td>\n",
       "      <td>211.18</td>\n",
       "      <td>211.43</td>\n",
       "      <td>55400.13</td>\n",
       "    </tr>\n",
       "    <tr>\n",
       "      <th>std</th>\n",
       "      <td>1019.17</td>\n",
       "      <td>234.08</td>\n",
       "      <td>234.08</td>\n",
       "      <td>234.32</td>\n",
       "      <td>233.80</td>\n",
       "      <td>234.06</td>\n",
       "      <td>89256.45</td>\n",
       "    </tr>\n",
       "    <tr>\n",
       "      <th>min</th>\n",
       "      <td>0.00</td>\n",
       "      <td>9.14</td>\n",
       "      <td>9.14</td>\n",
       "      <td>9.15</td>\n",
       "      <td>9.12</td>\n",
       "      <td>9.14</td>\n",
       "      <td>0.00</td>\n",
       "    </tr>\n",
       "    <tr>\n",
       "      <th>25%</th>\n",
       "      <td>882.25</td>\n",
       "      <td>21.83</td>\n",
       "      <td>21.83</td>\n",
       "      <td>21.84</td>\n",
       "      <td>21.82</td>\n",
       "      <td>21.83</td>\n",
       "      <td>11397.25</td>\n",
       "    </tr>\n",
       "    <tr>\n",
       "      <th>50%</th>\n",
       "      <td>1764.50</td>\n",
       "      <td>107.69</td>\n",
       "      <td>107.69</td>\n",
       "      <td>107.92</td>\n",
       "      <td>107.41</td>\n",
       "      <td>107.69</td>\n",
       "      <td>24822.50</td>\n",
       "    </tr>\n",
       "    <tr>\n",
       "      <th>75%</th>\n",
       "      <td>2646.75</td>\n",
       "      <td>484.90</td>\n",
       "      <td>484.90</td>\n",
       "      <td>485.44</td>\n",
       "      <td>484.41</td>\n",
       "      <td>484.91</td>\n",
       "      <td>62871.50</td>\n",
       "    </tr>\n",
       "    <tr>\n",
       "      <th>max</th>\n",
       "      <td>3529.00</td>\n",
       "      <td>649.62</td>\n",
       "      <td>649.62</td>\n",
       "      <td>650.23</td>\n",
       "      <td>649.04</td>\n",
       "      <td>649.55</td>\n",
       "      <td>1312942.00</td>\n",
       "    </tr>\n",
       "  </tbody>\n",
       "</table>\n",
       "</div>\n",
       "      <button class=\"colab-df-convert\" onclick=\"convertToInteractive('df-1c16e018-d054-40fb-870f-22b3f5b4fc13')\"\n",
       "              title=\"Convert this dataframe to an interactive table.\"\n",
       "              style=\"display:none;\">\n",
       "        \n",
       "  <svg xmlns=\"http://www.w3.org/2000/svg\" height=\"24px\"viewBox=\"0 0 24 24\"\n",
       "       width=\"24px\">\n",
       "    <path d=\"M0 0h24v24H0V0z\" fill=\"none\"/>\n",
       "    <path d=\"M18.56 5.44l.94 2.06.94-2.06 2.06-.94-2.06-.94-.94-2.06-.94 2.06-2.06.94zm-11 1L8.5 8.5l.94-2.06 2.06-.94-2.06-.94L8.5 2.5l-.94 2.06-2.06.94zm10 10l.94 2.06.94-2.06 2.06-.94-2.06-.94-.94-2.06-.94 2.06-2.06.94z\"/><path d=\"M17.41 7.96l-1.37-1.37c-.4-.4-.92-.59-1.43-.59-.52 0-1.04.2-1.43.59L10.3 9.45l-7.72 7.72c-.78.78-.78 2.05 0 2.83L4 21.41c.39.39.9.59 1.41.59.51 0 1.02-.2 1.41-.59l7.78-7.78 2.81-2.81c.8-.78.8-2.07 0-2.86zM5.41 20L4 18.59l7.72-7.72 1.47 1.35L5.41 20z\"/>\n",
       "  </svg>\n",
       "      </button>\n",
       "      \n",
       "  <style>\n",
       "    .colab-df-container {\n",
       "      display:flex;\n",
       "      flex-wrap:wrap;\n",
       "      gap: 12px;\n",
       "    }\n",
       "\n",
       "    .colab-df-convert {\n",
       "      background-color: #E8F0FE;\n",
       "      border: none;\n",
       "      border-radius: 50%;\n",
       "      cursor: pointer;\n",
       "      display: none;\n",
       "      fill: #1967D2;\n",
       "      height: 32px;\n",
       "      padding: 0 0 0 0;\n",
       "      width: 32px;\n",
       "    }\n",
       "\n",
       "    .colab-df-convert:hover {\n",
       "      background-color: #E2EBFA;\n",
       "      box-shadow: 0px 1px 2px rgba(60, 64, 67, 0.3), 0px 1px 3px 1px rgba(60, 64, 67, 0.15);\n",
       "      fill: #174EA6;\n",
       "    }\n",
       "\n",
       "    [theme=dark] .colab-df-convert {\n",
       "      background-color: #3B4455;\n",
       "      fill: #D2E3FC;\n",
       "    }\n",
       "\n",
       "    [theme=dark] .colab-df-convert:hover {\n",
       "      background-color: #434B5C;\n",
       "      box-shadow: 0px 1px 3px 1px rgba(0, 0, 0, 0.15);\n",
       "      filter: drop-shadow(0px 1px 2px rgba(0, 0, 0, 0.3));\n",
       "      fill: #FFFFFF;\n",
       "    }\n",
       "  </style>\n",
       "\n",
       "      <script>\n",
       "        const buttonEl =\n",
       "          document.querySelector('#df-1c16e018-d054-40fb-870f-22b3f5b4fc13 button.colab-df-convert');\n",
       "        buttonEl.style.display =\n",
       "          google.colab.kernel.accessAllowed ? 'block' : 'none';\n",
       "\n",
       "        async function convertToInteractive(key) {\n",
       "          const element = document.querySelector('#df-1c16e018-d054-40fb-870f-22b3f5b4fc13');\n",
       "          const dataTable =\n",
       "            await google.colab.kernel.invokeFunction('convertToInteractive',\n",
       "                                                     [key], {});\n",
       "          if (!dataTable) return;\n",
       "\n",
       "          const docLinkHtml = 'Like what you see? Visit the ' +\n",
       "            '<a target=\"_blank\" href=https://colab.research.google.com/notebooks/data_table.ipynb>data table notebook</a>'\n",
       "            + ' to learn more about interactive tables.';\n",
       "          element.innerHTML = '';\n",
       "          dataTable['output_type'] = 'display_data';\n",
       "          await google.colab.output.renderOutput(dataTable, element);\n",
       "          const docLink = document.createElement('div');\n",
       "          docLink.innerHTML = docLinkHtml;\n",
       "          element.appendChild(docLink);\n",
       "        }\n",
       "      </script>\n",
       "    </div>\n",
       "  </div>\n",
       "  "
      ],
      "text/plain": [
       "       Unnamed: 0  Adj Close   Close    High     Low    Open     Volume\n",
       "count     3530.00    3520.00 3520.00 3520.00 3520.00 3520.00    3530.00\n",
       "mean      1764.50     211.44  211.44  211.66  211.18  211.43   55400.13\n",
       "std       1019.17     234.08  234.08  234.32  233.80  234.06   89256.45\n",
       "min          0.00       9.14    9.14    9.15    9.12    9.14       0.00\n",
       "25%        882.25      21.83   21.83   21.84   21.82   21.83   11397.25\n",
       "50%       1764.50     107.69  107.69  107.92  107.41  107.69   24822.50\n",
       "75%       2646.75     484.90  484.90  485.44  484.41  484.91   62871.50\n",
       "max       3529.00     649.62  649.62  650.23  649.04  649.55 1312942.00"
      ]
     },
     "execution_count": 276,
     "metadata": {},
     "output_type": "execute_result"
    }
   ],
   "source": [
    "df_sample.describe()"
   ]
  },
  {
   "cell_type": "code",
   "execution_count": null,
   "metadata": {
    "colab": {
     "base_uri": "https://localhost:8080/",
     "height": 112
    },
    "executionInfo": {
     "elapsed": 169,
     "status": "ok",
     "timestamp": 1688499621253,
     "user": {
      "displayName": "Roy Ma",
      "userId": "11030545180881760696"
     },
     "user_tz": 420
    },
    "id": "5gBe5NQxasH3",
    "outputId": "afd3fdd4-1983-44c4-c961-bfccf4ddfb8b"
   },
   "outputs": [
    {
     "data": {
      "text/html": [
       "\n",
       "  <div id=\"df-cd844243-f068-49ae-b0f0-5df43ecd14fa\">\n",
       "    <div class=\"colab-df-container\">\n",
       "      <div>\n",
       "<style scoped>\n",
       "    .dataframe tbody tr th:only-of-type {\n",
       "        vertical-align: middle;\n",
       "    }\n",
       "\n",
       "    .dataframe tbody tr th {\n",
       "        vertical-align: top;\n",
       "    }\n",
       "\n",
       "    .dataframe thead th {\n",
       "        text-align: right;\n",
       "    }\n",
       "</style>\n",
       "<table border=\"1\" class=\"dataframe\">\n",
       "  <thead>\n",
       "    <tr style=\"text-align: right;\">\n",
       "      <th></th>\n",
       "      <th>Unnamed: 0</th>\n",
       "      <th>Date</th>\n",
       "      <th>Ticker</th>\n",
       "      <th>Adj Close</th>\n",
       "      <th>Close</th>\n",
       "      <th>High</th>\n",
       "      <th>Low</th>\n",
       "      <th>Open</th>\n",
       "      <th>Repaired?</th>\n",
       "      <th>Volume</th>\n",
       "    </tr>\n",
       "  </thead>\n",
       "  <tbody>\n",
       "    <tr>\n",
       "      <th>0</th>\n",
       "      <td>0</td>\n",
       "      <td>2023-06-27 09:30:00-04:00</td>\n",
       "      <td>ADBE</td>\n",
       "      <td>482.11</td>\n",
       "      <td>482.11</td>\n",
       "      <td>482.40</td>\n",
       "      <td>479.95</td>\n",
       "      <td>480.00</td>\n",
       "      <td>False</td>\n",
       "      <td>90397</td>\n",
       "    </tr>\n",
       "    <tr>\n",
       "      <th>1</th>\n",
       "      <td>1</td>\n",
       "      <td>2023-06-27 09:30:00-04:00</td>\n",
       "      <td>AMX</td>\n",
       "      <td>21.59</td>\n",
       "      <td>21.59</td>\n",
       "      <td>21.62</td>\n",
       "      <td>21.50</td>\n",
       "      <td>21.54</td>\n",
       "      <td>False</td>\n",
       "      <td>19394</td>\n",
       "    </tr>\n",
       "  </tbody>\n",
       "</table>\n",
       "</div>\n",
       "      <button class=\"colab-df-convert\" onclick=\"convertToInteractive('df-cd844243-f068-49ae-b0f0-5df43ecd14fa')\"\n",
       "              title=\"Convert this dataframe to an interactive table.\"\n",
       "              style=\"display:none;\">\n",
       "        \n",
       "  <svg xmlns=\"http://www.w3.org/2000/svg\" height=\"24px\"viewBox=\"0 0 24 24\"\n",
       "       width=\"24px\">\n",
       "    <path d=\"M0 0h24v24H0V0z\" fill=\"none\"/>\n",
       "    <path d=\"M18.56 5.44l.94 2.06.94-2.06 2.06-.94-2.06-.94-.94-2.06-.94 2.06-2.06.94zm-11 1L8.5 8.5l.94-2.06 2.06-.94-2.06-.94L8.5 2.5l-.94 2.06-2.06.94zm10 10l.94 2.06.94-2.06 2.06-.94-2.06-.94-.94-2.06-.94 2.06-2.06.94z\"/><path d=\"M17.41 7.96l-1.37-1.37c-.4-.4-.92-.59-1.43-.59-.52 0-1.04.2-1.43.59L10.3 9.45l-7.72 7.72c-.78.78-.78 2.05 0 2.83L4 21.41c.39.39.9.59 1.41.59.51 0 1.02-.2 1.41-.59l7.78-7.78 2.81-2.81c.8-.78.8-2.07 0-2.86zM5.41 20L4 18.59l7.72-7.72 1.47 1.35L5.41 20z\"/>\n",
       "  </svg>\n",
       "      </button>\n",
       "      \n",
       "  <style>\n",
       "    .colab-df-container {\n",
       "      display:flex;\n",
       "      flex-wrap:wrap;\n",
       "      gap: 12px;\n",
       "    }\n",
       "\n",
       "    .colab-df-convert {\n",
       "      background-color: #E8F0FE;\n",
       "      border: none;\n",
       "      border-radius: 50%;\n",
       "      cursor: pointer;\n",
       "      display: none;\n",
       "      fill: #1967D2;\n",
       "      height: 32px;\n",
       "      padding: 0 0 0 0;\n",
       "      width: 32px;\n",
       "    }\n",
       "\n",
       "    .colab-df-convert:hover {\n",
       "      background-color: #E2EBFA;\n",
       "      box-shadow: 0px 1px 2px rgba(60, 64, 67, 0.3), 0px 1px 3px 1px rgba(60, 64, 67, 0.15);\n",
       "      fill: #174EA6;\n",
       "    }\n",
       "\n",
       "    [theme=dark] .colab-df-convert {\n",
       "      background-color: #3B4455;\n",
       "      fill: #D2E3FC;\n",
       "    }\n",
       "\n",
       "    [theme=dark] .colab-df-convert:hover {\n",
       "      background-color: #434B5C;\n",
       "      box-shadow: 0px 1px 3px 1px rgba(0, 0, 0, 0.15);\n",
       "      filter: drop-shadow(0px 1px 2px rgba(0, 0, 0, 0.3));\n",
       "      fill: #FFFFFF;\n",
       "    }\n",
       "  </style>\n",
       "\n",
       "      <script>\n",
       "        const buttonEl =\n",
       "          document.querySelector('#df-cd844243-f068-49ae-b0f0-5df43ecd14fa button.colab-df-convert');\n",
       "        buttonEl.style.display =\n",
       "          google.colab.kernel.accessAllowed ? 'block' : 'none';\n",
       "\n",
       "        async function convertToInteractive(key) {\n",
       "          const element = document.querySelector('#df-cd844243-f068-49ae-b0f0-5df43ecd14fa');\n",
       "          const dataTable =\n",
       "            await google.colab.kernel.invokeFunction('convertToInteractive',\n",
       "                                                     [key], {});\n",
       "          if (!dataTable) return;\n",
       "\n",
       "          const docLinkHtml = 'Like what you see? Visit the ' +\n",
       "            '<a target=\"_blank\" href=https://colab.research.google.com/notebooks/data_table.ipynb>data table notebook</a>'\n",
       "            + ' to learn more about interactive tables.';\n",
       "          element.innerHTML = '';\n",
       "          dataTable['output_type'] = 'display_data';\n",
       "          await google.colab.output.renderOutput(dataTable, element);\n",
       "          const docLink = document.createElement('div');\n",
       "          docLink.innerHTML = docLinkHtml;\n",
       "          element.appendChild(docLink);\n",
       "        }\n",
       "      </script>\n",
       "    </div>\n",
       "  </div>\n",
       "  "
      ],
      "text/plain": [
       "   Unnamed: 0                       Date Ticker  Adj Close  Close   High  \\\n",
       "0           0  2023-06-27 09:30:00-04:00   ADBE     482.11 482.11 482.40   \n",
       "1           1  2023-06-27 09:30:00-04:00    AMX      21.59  21.59  21.62   \n",
       "\n",
       "     Low   Open  Repaired?  Volume  \n",
       "0 479.95 480.00      False   90397  \n",
       "1  21.50  21.54      False   19394  "
      ]
     },
     "execution_count": 266,
     "metadata": {},
     "output_type": "execute_result"
    }
   ],
   "source": [
    "df_sample.head(2)"
   ]
  },
  {
   "cell_type": "code",
   "execution_count": null,
   "metadata": {
    "colab": {
     "base_uri": "https://localhost:8080/"
    },
    "executionInfo": {
     "elapsed": 141,
     "status": "ok",
     "timestamp": 1688499628819,
     "user": {
      "displayName": "Roy Ma",
      "userId": "11030545180881760696"
     },
     "user_tz": 420
    },
    "id": "vHQa16Usa4vx",
    "outputId": "d5730484-5e36-4dfb-f98b-037fe92d130f"
   },
   "outputs": [
    {
     "data": {
      "text/plain": [
       "<bound method DataFrame.info of       Unnamed: 0                       Date Ticker  Adj Close  Close   High  \\\n",
       "0              0  2023-06-27 09:30:00-04:00   ADBE     482.11 482.11 482.40   \n",
       "1              1  2023-06-27 09:30:00-04:00    AMX      21.59  21.59  21.62   \n",
       "2              2  2023-06-27 09:30:00-04:00   DDOG      93.40  93.40  94.43   \n",
       "3              3  2023-06-27 09:30:00-04:00    IBM     131.15 131.15 131.26   \n",
       "4              4  2023-06-27 09:30:00-04:00   INFY      15.58  15.58  15.64   \n",
       "...          ...                        ...    ...        ...    ...    ...   \n",
       "3525        3525  2023-07-03 12:50:00-04:00   LRCX        NaN    NaN    NaN   \n",
       "3526        3526  2023-07-03 12:50:00-04:00    NOW        NaN    NaN    NaN   \n",
       "3527        3527  2023-07-03 12:50:00-04:00   ORCL        NaN    NaN    NaN   \n",
       "3528        3528  2023-07-03 12:50:00-04:00   RBLX        NaN    NaN    NaN   \n",
       "3529        3529  2023-07-03 12:50:00-04:00    VOD        NaN    NaN    NaN   \n",
       "\n",
       "        Low   Open  Repaired?  Volume  \n",
       "0    479.95 480.00      False   90397  \n",
       "1     21.50  21.54      False   19394  \n",
       "2     93.05  94.06      False   46102  \n",
       "3    130.83 131.06      False   91519  \n",
       "4     15.57  15.60      False  213641  \n",
       "...     ...    ...        ...     ...  \n",
       "3525    NaN    NaN       True       0  \n",
       "3526    NaN    NaN       True       0  \n",
       "3527    NaN    NaN       True       0  \n",
       "3528    NaN    NaN       True       0  \n",
       "3529    NaN    NaN       True       0  \n",
       "\n",
       "[3530 rows x 10 columns]>"
      ]
     },
     "execution_count": 267,
     "metadata": {},
     "output_type": "execute_result"
    }
   ],
   "source": [
    "df_sample.info"
   ]
  },
  {
   "cell_type": "code",
   "execution_count": null,
   "metadata": {
    "colab": {
     "base_uri": "https://localhost:8080/"
    },
    "executionInfo": {
     "elapsed": 142,
     "status": "ok",
     "timestamp": 1688499686332,
     "user": {
      "displayName": "Roy Ma",
      "userId": "11030545180881760696"
     },
     "user_tz": 420
    },
    "id": "yQGdTPe3bDcx",
    "outputId": "8c400656-3204-4457-e323-a072cadae463"
   },
   "outputs": [
    {
     "data": {
      "text/plain": [
       "Index            128\n",
       "Unnamed: 0     28240\n",
       "Date          289460\n",
       "Ticker        213918\n",
       "Adj Close      28240\n",
       "Close          28240\n",
       "High           28240\n",
       "Low            28240\n",
       "Open           28240\n",
       "Repaired?       3530\n",
       "Volume         28240\n",
       "dtype: int64"
      ]
     },
     "execution_count": 272,
     "metadata": {},
     "output_type": "execute_result"
    }
   ],
   "source": [
    "df_sample.memory_usage(deep=True)"
   ]
  },
  {
   "cell_type": "code",
   "execution_count": 277,
   "metadata": {
    "colab": {
     "base_uri": "https://localhost:8080/"
    },
    "executionInfo": {
     "elapsed": 175,
     "status": "ok",
     "timestamp": 1688501443172,
     "user": {
      "displayName": "Roy Ma",
      "userId": "11030545180881760696"
     },
     "user_tz": 420
    },
    "id": "jo2XJ0e_bEKw",
    "outputId": "e8427af2-6d4e-43a0-d87f-08f91e0fd046"
   },
   "outputs": [
    {
     "data": {
      "text/plain": [
       "Unnamed: 0     0\n",
       "Date           0\n",
       "Ticker         0\n",
       "Adj Close     10\n",
       "Close         10\n",
       "High          10\n",
       "Low           10\n",
       "Open          10\n",
       "Repaired?      0\n",
       "Volume         0\n",
       "dtype: int64"
      ]
     },
     "execution_count": 277,
     "metadata": {},
     "output_type": "execute_result"
    }
   ],
   "source": [
    "df_sample.isnull().sum()"
   ]
  },
  {
   "cell_type": "code",
   "execution_count": 294,
   "metadata": {
    "colab": {
     "base_uri": "https://localhost:8080/",
     "height": 143
    },
    "executionInfo": {
     "elapsed": 138,
     "status": "ok",
     "timestamp": 1688501758489,
     "user": {
      "displayName": "Roy Ma",
      "userId": "11030545180881760696"
     },
     "user_tz": 420
    },
    "id": "y-teEJkkhu4C",
    "outputId": "9900164c-d9e9-4351-fb06-4a7dc80637ad"
   },
   "outputs": [
    {
     "data": {
      "text/html": [
       "\n",
       "  <div id=\"df-17bb43a0-82b4-4f8f-b261-5d18d1b317d1\">\n",
       "    <div class=\"colab-df-container\">\n",
       "      <div>\n",
       "<style scoped>\n",
       "    .dataframe tbody tr th:only-of-type {\n",
       "        vertical-align: middle;\n",
       "    }\n",
       "\n",
       "    .dataframe tbody tr th {\n",
       "        vertical-align: top;\n",
       "    }\n",
       "\n",
       "    .dataframe thead th {\n",
       "        text-align: right;\n",
       "    }\n",
       "</style>\n",
       "<table border=\"1\" class=\"dataframe\">\n",
       "  <thead>\n",
       "    <tr style=\"text-align: right;\">\n",
       "      <th></th>\n",
       "      <th>Ticker</th>\n",
       "      <th>Adj Close</th>\n",
       "      <th>Close</th>\n",
       "      <th>High</th>\n",
       "      <th>Low</th>\n",
       "      <th>Open</th>\n",
       "      <th>Repaired?</th>\n",
       "      <th>Volume</th>\n",
       "    </tr>\n",
       "    <tr>\n",
       "      <th>Date</th>\n",
       "      <th></th>\n",
       "      <th></th>\n",
       "      <th></th>\n",
       "      <th></th>\n",
       "      <th></th>\n",
       "      <th></th>\n",
       "      <th></th>\n",
       "      <th></th>\n",
       "    </tr>\n",
       "  </thead>\n",
       "  <tbody>\n",
       "    <tr>\n",
       "      <th>2022-07-05</th>\n",
       "      <td>ADBE</td>\n",
       "      <td>376.49</td>\n",
       "      <td>376.49</td>\n",
       "      <td>378.52</td>\n",
       "      <td>359.82</td>\n",
       "      <td>363.50</td>\n",
       "      <td>False</td>\n",
       "      <td>3120500</td>\n",
       "    </tr>\n",
       "    <tr>\n",
       "      <th>2022-07-06</th>\n",
       "      <td>ADBE</td>\n",
       "      <td>382.83</td>\n",
       "      <td>382.83</td>\n",
       "      <td>385.39</td>\n",
       "      <td>374.09</td>\n",
       "      <td>378.54</td>\n",
       "      <td>False</td>\n",
       "      <td>2284600</td>\n",
       "    </tr>\n",
       "  </tbody>\n",
       "</table>\n",
       "</div>\n",
       "      <button class=\"colab-df-convert\" onclick=\"convertToInteractive('df-17bb43a0-82b4-4f8f-b261-5d18d1b317d1')\"\n",
       "              title=\"Convert this dataframe to an interactive table.\"\n",
       "              style=\"display:none;\">\n",
       "        \n",
       "  <svg xmlns=\"http://www.w3.org/2000/svg\" height=\"24px\"viewBox=\"0 0 24 24\"\n",
       "       width=\"24px\">\n",
       "    <path d=\"M0 0h24v24H0V0z\" fill=\"none\"/>\n",
       "    <path d=\"M18.56 5.44l.94 2.06.94-2.06 2.06-.94-2.06-.94-.94-2.06-.94 2.06-2.06.94zm-11 1L8.5 8.5l.94-2.06 2.06-.94-2.06-.94L8.5 2.5l-.94 2.06-2.06.94zm10 10l.94 2.06.94-2.06 2.06-.94-2.06-.94-.94-2.06-.94 2.06-2.06.94z\"/><path d=\"M17.41 7.96l-1.37-1.37c-.4-.4-.92-.59-1.43-.59-.52 0-1.04.2-1.43.59L10.3 9.45l-7.72 7.72c-.78.78-.78 2.05 0 2.83L4 21.41c.39.39.9.59 1.41.59.51 0 1.02-.2 1.41-.59l7.78-7.78 2.81-2.81c.8-.78.8-2.07 0-2.86zM5.41 20L4 18.59l7.72-7.72 1.47 1.35L5.41 20z\"/>\n",
       "  </svg>\n",
       "      </button>\n",
       "      \n",
       "  <style>\n",
       "    .colab-df-container {\n",
       "      display:flex;\n",
       "      flex-wrap:wrap;\n",
       "      gap: 12px;\n",
       "    }\n",
       "\n",
       "    .colab-df-convert {\n",
       "      background-color: #E8F0FE;\n",
       "      border: none;\n",
       "      border-radius: 50%;\n",
       "      cursor: pointer;\n",
       "      display: none;\n",
       "      fill: #1967D2;\n",
       "      height: 32px;\n",
       "      padding: 0 0 0 0;\n",
       "      width: 32px;\n",
       "    }\n",
       "\n",
       "    .colab-df-convert:hover {\n",
       "      background-color: #E2EBFA;\n",
       "      box-shadow: 0px 1px 2px rgba(60, 64, 67, 0.3), 0px 1px 3px 1px rgba(60, 64, 67, 0.15);\n",
       "      fill: #174EA6;\n",
       "    }\n",
       "\n",
       "    [theme=dark] .colab-df-convert {\n",
       "      background-color: #3B4455;\n",
       "      fill: #D2E3FC;\n",
       "    }\n",
       "\n",
       "    [theme=dark] .colab-df-convert:hover {\n",
       "      background-color: #434B5C;\n",
       "      box-shadow: 0px 1px 3px 1px rgba(0, 0, 0, 0.15);\n",
       "      filter: drop-shadow(0px 1px 2px rgba(0, 0, 0, 0.3));\n",
       "      fill: #FFFFFF;\n",
       "    }\n",
       "  </style>\n",
       "\n",
       "      <script>\n",
       "        const buttonEl =\n",
       "          document.querySelector('#df-17bb43a0-82b4-4f8f-b261-5d18d1b317d1 button.colab-df-convert');\n",
       "        buttonEl.style.display =\n",
       "          google.colab.kernel.accessAllowed ? 'block' : 'none';\n",
       "\n",
       "        async function convertToInteractive(key) {\n",
       "          const element = document.querySelector('#df-17bb43a0-82b4-4f8f-b261-5d18d1b317d1');\n",
       "          const dataTable =\n",
       "            await google.colab.kernel.invokeFunction('convertToInteractive',\n",
       "                                                     [key], {});\n",
       "          if (!dataTable) return;\n",
       "\n",
       "          const docLinkHtml = 'Like what you see? Visit the ' +\n",
       "            '<a target=\"_blank\" href=https://colab.research.google.com/notebooks/data_table.ipynb>data table notebook</a>'\n",
       "            + ' to learn more about interactive tables.';\n",
       "          element.innerHTML = '';\n",
       "          dataTable['output_type'] = 'display_data';\n",
       "          await google.colab.output.renderOutput(dataTable, element);\n",
       "          const docLink = document.createElement('div');\n",
       "          docLink.innerHTML = docLinkHtml;\n",
       "          element.appendChild(docLink);\n",
       "        }\n",
       "      </script>\n",
       "    </div>\n",
       "  </div>\n",
       "  "
      ],
      "text/plain": [
       "           Ticker  Adj Close  Close   High    Low   Open  Repaired?   Volume\n",
       "Date                                                                        \n",
       "2022-07-05   ADBE     376.49 376.49 378.52 359.82 363.50      False  3120500\n",
       "2022-07-06   ADBE     382.83 382.83 385.39 374.09 378.54      False  2284600"
      ]
     },
     "execution_count": 294,
     "metadata": {},
     "output_type": "execute_result"
    }
   ],
   "source": [
    "df_ = df_sample[df_sample[\"Ticker\"] ==\"ADBE\"].copy()\n",
    "df_.drop(columns=[\"Unnamed: 0\"], inplace=True)\n",
    "df_ = df_.set_index('Date')\n",
    "df_.head(2)"
   ]
  },
  {
   "cell_type": "code",
   "execution_count": null,
   "metadata": {
    "colab": {
     "base_uri": "https://localhost:8080/",
     "height": 542
    },
    "executionInfo": {
     "elapsed": 209,
     "status": "ok",
     "timestamp": 1688501761507,
     "user": {
      "displayName": "Roy Ma",
      "userId": "11030545180881760696"
     },
     "user_tz": 420
    },
    "id": "ePyIvBozbgQv",
    "outputId": "9f780b14-1076-424c-c461-bd25d96a06d9"
   },
   "outputs": [],
   "source": [
    "import pandas as pd\n",
    "import json\n",
    "import re\n",
    "from datetime import datetime, timedelta\n",
    "import plotly.graph_objects as go\n",
    "\n",
    "fig = go.Figure(data=[go.Candlestick(x=df_.index,\n",
    "                    open=df_['Open'],\n",
    "                    high=df_['High'],\n",
    "                    low=df_['Low'],\n",
    "                    close=df_['Close'])])\n",
    "fig"
   ]
  },
  {
   "cell_type": "markdown",
   "metadata": {
    "id": "koslIA5BiwvI"
   },
   "source": [
    "<font color=blue>We will continue Pandas and EDA next week</font>"
   ]
  },
  {
   "cell_type": "code",
   "execution_count": null,
   "metadata": {
    "id": "cV6dDP9-nD7e"
   },
   "outputs": [],
   "source": []
  }
 ],
 "metadata": {
  "colab": {
   "authorship_tag": "ABX9TyNarD7kleDfWyEC9gz3ov3H",
   "provenance": [],
   "toc_visible": true
  },
  "kernelspec": {
   "display_name": "torchpy38",
   "language": "python",
   "name": "torchpy38"
  },
  "language_info": {
   "codemirror_mode": {
    "name": "ipython",
    "version": 3
   },
   "file_extension": ".py",
   "mimetype": "text/x-python",
   "name": "python",
   "nbconvert_exporter": "python",
   "pygments_lexer": "ipython3",
   "version": "3.9.12"
  }
 },
 "nbformat": 4,
 "nbformat_minor": 4
}
